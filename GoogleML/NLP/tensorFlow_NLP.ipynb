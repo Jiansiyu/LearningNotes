{
 "cells": [
  {
   "cell_type": "code",
   "execution_count": 6,
   "metadata": {
    "pycharm": {
     "name": "#%%\n"
    }
   },
   "outputs": [
    {
     "name": "stdout",
     "output_type": "stream",
     "text": [
      "[  308 15115   679  3337  2298    48   382  2576 15116     6  2577  8434\n",
      "     0     0     0     0     0     0     0     0     0     0     0     0\n",
      "     0     0     0     0     0     0     0     0     0     0     0     0\n",
      "     0     0     0     0]\n",
      "(26709, 40)\n"
     ]
    }
   ],
   "source": [
    "import tensorflow\n",
    "import json\n",
    "from tensorflow.keras.preprocessing.text import Tokenizer\n",
    "from  tensorflow.keras.preprocessing.sequence import pad_sequences\n",
    "\n",
    "def parseJson(fname):\n",
    "    for line in open(fname,'r'):\n",
    "        yield eval(line)\n",
    "\n",
    "dataset=parseJson('./Sarcasm_Headlines_Dataset.json')\n",
    "\n",
    "sentence = []\n",
    "labels =[]\n",
    "urls =[]\n",
    "\n",
    "for item in dataset:\n",
    "    sentence.append(item['headline'])\n",
    "    labels.append(item['is_sarcastic'])\n",
    "    urls.append(item['article_link'])\n",
    "\n",
    "\n",
    "tokenizer=Tokenizer(oov_token='<OOV>')\n",
    "tokenizer.fit_on_texts(sentence)\n",
    "word_index=tokenizer.word_index\n",
    "\n",
    "\n",
    "sequence=tokenizer.texts_to_sequences(sentence)\n",
    "padded=pad_sequences(sequences=sequence,padding=\"post\")\n",
    "print(padded[0])\n",
    "print(padded.shape)\n",
    "\n",
    "\n",
    "TrainingNumber=int(0.8*len(sentence))\n",
    "TestDataNumber=len(sentence)-TrainingNumber\n",
    "\n",
    "training_setences=sentence[0:TrainingNumber]\n",
    "training_labels=labels[0:TrainingNumber]\n",
    "testing_setences=sentence[TrainingNumber:]\n",
    "testing_label=labels[TrainingNumber:]"
   ]
  },
  {
   "cell_type": "code",
   "execution_count": 4,
   "outputs": [],
   "source": [
    "tokenizer=Tokenizer(oov_token='<OOV>')\n",
    "tokenizer.fit_on_texts(training_setences)\n",
    "\n",
    "word_index=tokenizer.word_index\n",
    "training_sequence=tokenizer.texts_to_sequences(training_setences)\n",
    "training_padded=pad_sequences(training_sequence)\n",
    "\n",
    "testing_sequence=tokenizer.texts_to_sequences(testing_setences)\n",
    "test_padded=pad_sequences(testing_sequence)\n"
   ],
   "metadata": {
    "collapsed": false,
    "pycharm": {
     "name": "#%%\n"
    }
   }
  }
 ],
 "metadata": {
  "kernelspec": {
   "name": "pycharm-ff77a6ce",
   "language": "python",
   "display_name": "PyCharm (NLP)"
  },
  "language_info": {
   "codemirror_mode": {
    "name": "ipython",
    "version": 3
   },
   "file_extension": ".py",
   "mimetype": "text/x-python",
   "name": "python",
   "nbconvert_exporter": "python",
   "pygments_lexer": "ipython3",
   "version": "3.8.6"
  }
 },
 "nbformat": 4,
 "nbformat_minor": 1
}